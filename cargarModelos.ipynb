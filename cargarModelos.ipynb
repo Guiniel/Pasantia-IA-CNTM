{
  "cells": [
    {
      "cell_type": "markdown",
      "metadata": {
        "colab_type": "text",
        "id": "view-in-github"
      },
      "source": [
        "<a href=\"https://colab.research.google.com/github/Guiniel/Pasantia-IA-CNTM/blob/main/cargarModelos.ipynb\" target=\"_parent\"><img src=\"https://colab.research.google.com/assets/colab-badge.svg\" alt=\"Open In Colab\"/></a>"
      ]
    },
    {
      "cell_type": "markdown",
      "metadata": {
        "id": "nZplhioRj0IQ"
      },
      "source": [
        "### **Instalamos los mismos paquetes de antes**"
      ]
    },
    {
      "cell_type": "code",
      "execution_count": 1,
      "metadata": {
        "colab": {
          "base_uri": "https://localhost:8080/"
        },
        "id": "mhsK1UqXE7iT",
        "outputId": "b8d4c9b8-9956-4d9a-acb8-a898f243b0ae"
      },
      "outputs": [
        {
          "name": "stdout",
          "output_type": "stream",
          "text": [
            "Note: you may need to restart the kernel to use updated packages.\n"
          ]
        },
        {
          "name": "stderr",
          "output_type": "stream",
          "text": [
            "\n",
            "[notice] A new release of pip is available: 23.2.1 -> 24.0\n",
            "[notice] To update, run: python.exe -m pip install --upgrade pip\n"
          ]
        },
        {
          "name": "stdout",
          "output_type": "stream",
          "text": [
            "^C\n",
            "Note: you may need to restart the kernel to use updated packages.\n"
          ]
        }
      ],
      "source": [
        "!pip install -q pyyaml h5py\n",
        "!pip install git+https://github.com/tensorflow/docs"
      ]
    },
    {
      "cell_type": "markdown",
      "metadata": {
        "id": "NmFKHzOuj-N8"
      },
      "source": [
        "### **Importamos los paquetes a usar**"
      ]
    },
    {
      "cell_type": "code",
      "execution_count": null,
      "metadata": {
        "id": "quX-B4DhsFHv"
      },
      "outputs": [],
      "source": [
        "import joblib\n",
        "import pandas as pd\n",
        "import numpy as np\n",
        "import os\n",
        "from IPython.display import clear_output\n",
        "import tensorflow as tf\n",
        "from tensorflow import keras\n",
        "from keras.models import load_model\n",
        "\n",
        "np.set_printoptions(precision=4)"
      ]
    },
    {
      "cell_type": "markdown",
      "metadata": {
        "id": "yR1kqpz-kDwt"
      },
      "source": [
        "### **Cargamos el dataset de ejemplo para realizar mis aproximaciones**"
      ]
    },
    {
      "cell_type": "code",
      "execution_count": null,
      "metadata": {
        "id": "Zg0gKB1OwgOW"
      },
      "outputs": [],
      "source": [
        "data_pd = pd.read_csv(\"/content/drive/MyDrive/Colab Notebooks/datasets/Evaluacion.csv\")\n"
      ]
    },
    {
      "cell_type": "markdown",
      "metadata": {
        "id": "J7kqIJOhka7z"
      },
      "source": [
        "### **Guardamos las columnas que no necesitamos y nos quedamos con las necesarias para poder hacer la prediccion**"
      ]
    },
    {
      "cell_type": "code",
      "execution_count": null,
      "metadata": {
        "id": "mE5AS8h71IrS"
      },
      "outputs": [],
      "source": [
        "columns = ['Task_ID','Task_Name','Status', 'Start_Date','Due_Date','Time_Estimate','Time_Logged','Lists','Año','Q']\n",
        "saved_columns = data_pd[columns]\n",
        "data_pd = data_pd.drop(['Task_ID'], axis=1).drop(['Task_Name'], axis=1).drop(['Status'], axis=1).drop(['Start_Date'], axis=1).drop(['Due_Date'], axis=1).drop(['Time_Estimate'], axis=1).drop(['Time_Logged'], axis = 1).drop(['Año'],axis=1).drop(['Lists'], axis=1).drop(['Q'], axis=1)\n"
      ]
    },
    {
      "cell_type": "markdown",
      "metadata": {
        "id": "hSazxMfpkp5k"
      },
      "source": [
        "### **Aqui hay funciones para par de metricas y para cargar el modelo**"
      ]
    },
    {
      "cell_type": "code",
      "execution_count": null,
      "metadata": {
        "id": "7rN7BmZeGIGC"
      },
      "outputs": [],
      "source": [
        "def cargar_modelo(ruta_archivo):\n",
        "    nombre_archivo, extension = os.path.splitext(ruta_archivo)\n",
        "    if extension == '.pkl':\n",
        "        return joblib.load(ruta_archivo)\n",
        "    elif extension == '.h5':\n",
        "        return keras.models.load_model(ruta_archivo, custom_objects={'median_relative_error': median_relative_error, 'r_squared': r_squared})\n",
        "    else:\n",
        "        raise ValueError(\"Extensión de archivo no compatible.\")\n",
        "def median_relative_error(y_true, y_pred):\n",
        "    error = tf.math.abs(y_true - y_pred) / tf.maximum(tf.math.abs(y_true), 1e-7)\n",
        "    return tf.keras.backend.mean(error)\n",
        "\n",
        "def r_squared(y_true, y_pred):\n",
        "    SS_res =  tf.reduce_sum(tf.square(y_true - y_pred))\n",
        "    SS_tot = tf.reduce_sum(tf.square(y_true - tf.reduce_mean(y_true)))\n",
        "    return 1 - SS_res/(SS_tot + tf.keras.backend.epsilon())\n"
      ]
    },
    {
      "cell_type": "markdown",
      "metadata": {
        "id": "w37cN3zKkzw8"
      },
      "source": [
        "### **Aqui cargamos el modelo, realizamos las predicciones para el conjunto de datos cargados y lo exportamos con el mismo formato con el que entra**\n",
        "\n",
        "### **Se puede elegir entre 6 modelos diferentes y el excel generado se crea en la carpeta de trabajo con el nombre del modelo**"
      ]
    },
    {
      "cell_type": "code",
      "execution_count": null,
      "metadata": {
        "colab": {
          "base_uri": "https://localhost:8080/"
        },
        "id": "1uMGbNaV547f",
        "outputId": "c4ae3a6e-ab38-4dac-9bd7-b7c328dd9fa8"
      },
      "outputs": [],
      "source": [
        "model_directory = '/content/drive/MyDrive/Colab Notebooks/modelos'\n",
        "model_files = os.listdir(model_directory)\n",
        "\n",
        "while True:\n",
        "    clear_output(wait=True)\n",
        "\n",
        "    print(\"Modelos disponibles:\")\n",
        "    for i, model_file in enumerate(model_files):\n",
        "        print(f\"{i+1}. {model_file}\")\n",
        "\n",
        "    print(\"0. Salir\")\n",
        "\n",
        "    # Pide al usuario que seleccione un modelo o salir\n",
        "    selected_option = input(\"Por favor, selecciona un modelo o ingresa '0' para salir: \")\n",
        "\n",
        "    if selected_option == '0':\n",
        "        print(\"Saliendo del programa...\")\n",
        "        break  # Sale del bucle si el usuario elige salir\n",
        "\n",
        "    try:\n",
        "        selected_model_index = int(selected_option) - 1\n",
        "\n",
        "        #Verifica si la selección está dentro del rango de modelos disponibles\n",
        "        if selected_model_index < 0 or selected_model_index >= len(model_files):\n",
        "            print(\"Por favor, selecciona una opción válida.\")\n",
        "            continue\n",
        "\n",
        "        selected_model_path = os.path.join(model_directory, model_files[selected_model_index])\n",
        "        print(f\"Cargando modelo desde {selected_model_path}...\")\n",
        "\n",
        "        # Cargamos el modelo\n",
        "        model = cargar_modelo(selected_model_path)\n",
        "\n",
        "        result = model.predict(data_pd).flatten()\n",
        "\n",
        "        # Juntamos la tabla nuevamente\n",
        "        table = pd.concat([saved_columns, data_pd], axis=1)\n",
        "\n",
        "        print(table)\n",
        "        # Ordenamos los valores\n",
        "\n",
        "        table = table[['Task_ID', 'Task_Name','Assignee', 'Status', 'Start_Date', 'Due_Date', 'Esfuerzo_Aproximado', 'Time_Estimate', 'Time_Logged','Año','Q','Mes','Lists']]\n",
        "        # Agregamos los valores de prediccion\n",
        "        table['Time_Estimate'] = result\n",
        "\n",
        "        model_name = os.path.splitext(model_files[selected_model_index])[0]\n",
        "        excel_filename = f\"prediccion_{model_name}.xlsx\"\n",
        "\n",
        "        # Exportamos a excel\n",
        "        table.to_excel(excel_filename, index = False)\n",
        "    except ValueError:\n",
        "        print(\"Por favor, ingresa un número válido.\")\n",
        "        input(\"Pulsa cualquier tecla para continuar...\")"
      ]
    }
  ],
  "metadata": {
    "colab": {
      "authorship_tag": "ABX9TyMIHsCyJOIol2h+bLKWNCY2",
      "include_colab_link": true,
      "mount_file_id": "1YrkJxwLT-mgFbaQLJGMfVLFhtObz31ns",
      "provenance": []
    },
    "kernelspec": {
      "display_name": "Python 3",
      "name": "python3"
    },
    "language_info": {
      "codemirror_mode": {
        "name": "ipython",
        "version": 3
      },
      "file_extension": ".py",
      "mimetype": "text/x-python",
      "name": "python",
      "nbconvert_exporter": "python",
      "pygments_lexer": "ipython3",
      "version": "3.12.0"
    }
  },
  "nbformat": 4,
  "nbformat_minor": 0
}
